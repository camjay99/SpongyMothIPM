{
 "cells": [
  {
   "cell_type": "markdown",
   "id": "052001c1",
   "metadata": {},
   "source": [
    "# Testing Gradient Updates for Demographic Stochasticity\n",
    "When running the model with arbitrarily chosen stochasticities, we find that egg hatch times are happening too soon. Here, we aim to build up a method for updating stochasticity parameters using gradient descent in a way that can work with current memory constraints."
   ]
  },
  {
   "cell_type": "code",
   "execution_count": 1,
   "id": "46cb977f",
   "metadata": {},
   "outputs": [],
   "source": [
    "%load_ext autoreload\n",
    "%autoreload 2\n",
    "\n",
    "import math\n",
    "\n",
    "import matplotlib.pyplot as plt\n",
    "import numpy as np\n",
    "import pandas as pd\n",
    "import torch\n",
    "\n",
    "import SpongyMothIPM.meteorology as met\n",
    "from SpongyMothIPM.config import Config\n",
    "import SpongyMothIPM.util as util\n",
    "import SpongyMothIPM.kernels as kernels\n",
    "import SpongyMothIPM.visualization as viz"
   ]
  },
  {
   "cell_type": "markdown",
   "id": "5dbb890e",
   "metadata": {},
   "source": [
    "## Load Weather Data"
   ]
  },
  {
   "cell_type": "code",
   "execution_count": 28,
   "id": "edfd3b70",
   "metadata": {},
   "outputs": [],
   "source": [
    "df = met.load_daymet_data('../data/mont_st_hilaire/mont_st_hilaire_1980_1991.csv')\n",
    "low_time = 1\n",
    "high_time = 13\n",
    "sample_period = 4\n",
    "sample_start_time = 1\n",
    "temps = met.daymet_to_diurnal(df, \n",
    "                            low_time, \n",
    "                            high_time, \n",
    "                            sample_period, \n",
    "                            sample_start_time, 365)\n",
    "\n",
    "\n",
    "config = Config(dtype=torch.float,\n",
    "                delta_t=sample_period/24)\n",
    "\n",
    "days = len(temps)//(24//sample_period)\n",
    "learning_rate = 0.001"
   ]
  },
  {
   "cell_type": "markdown",
   "id": "16b129aa",
   "metadata": {},
   "source": [
    "## Model Setup"
   ]
  },
  {
   "cell_type": "code",
   "execution_count": null,
   "id": "7b98959c",
   "metadata": {},
   "outputs": [],
   "source": [
    "class SimpleModel():\n",
    "    def __init__(self):\n",
    "        # Build life stages\n",
    "        self.prediapause = kernels.Prediapause(\n",
    "            config, save=False, save_rate=1, mortality=0)\n",
    "        self.diapause = kernels.Diapause(\n",
    "            config, n_bins_I=45, n_bins_D=45, save=False, save_rate=1, mortality=0)\n",
    "        self.postdiapause = kernels.Postdiapause(\n",
    "            config, save=False, save_rate=1, mortality=0)\n",
    "        self.first_instar = kernels.FirstInstar(\n",
    "            config, save=False, save_rate=1, mortality=0, \n",
    "            file_path='memory')\n",
    "        self.second_instar = kernels.SecondInstar(\n",
    "            config, save=False, save_rate=1, mortality=0)\n",
    "        self.third_instar = kernels.ThirdInstar(\n",
    "            config, save=False, save_rate=1, mortality=0)\n",
    "        self.fourth_instar = kernels.FourthInstar(\n",
    "            config, save=False, save_rate=1, mortality=0)\n",
    "        self.male_late_instar = kernels.MaleFifthInstar(\n",
    "            config, save=False, save_rate=1, mortality=0)\n",
    "        self.female_late_instar = kernels.FemaleFifthSixthInstar(\n",
    "            config, save=False, save_rate=1, mortality=0)\n",
    "        self.male_pupae = kernels.MalePupae(\n",
    "            config, save=False, save_rate=1, mortality=0)\n",
    "        self.female_pupae = kernels.FemalePupae(\n",
    "            config, save=False, save_rate=1, mortality=0)\n",
    "        self.adults = kernels.Adult(\n",
    "            config, save=False, save_rate=1, mortality=0)\n",
    "        \n",
    "    def init_pop(self):\n",
    "        # Initiate populations\n",
    "        mu = 0.2\n",
    "        sigma = 1.1\n",
    "        total = 1\n",
    "        empty = 0\n",
    "        self.prediapause.init_pop(empty, mu, sigma)\n",
    "        self.diapause.init_pop(total, mu, sigma)\n",
    "        self.postdiapause.init_pop(empty, mu, sigma)\n",
    "        self.first_instar.init_pop(empty, mu, sigma)\n",
    "        self.second_instar.init_pop(empty, mu, sigma)\n",
    "        self.third_instar.init_pop(empty, mu, sigma)\n",
    "        self.fourth_instar.init_pop(empty, mu, sigma)\n",
    "        self.male_late_instar.init_pop(empty, mu, sigma)\n",
    "        self.female_late_instar.init_pop(empty, mu, sigma)\n",
    "        self.male_pupae.init_pop(empty, mu, sigma)\n",
    "        self.female_pupae.init_pop(empty, mu, sigma)\n",
    "        self.adults.init_pop(empty, mu, sigma)\n",
    "\n",
    "        # For tracking emerging eggs\n",
    "        self.hatched = []\n",
    "        \n",
    "    def forward(self):\n",
    "        # Run Model\n",
    "        start_year = temps['year'].min()\n",
    "        end_year = temps['year'].max()\n",
    "        start = 0\n",
    "        for year in range(start_year, end_year+1):\n",
    "            print(f\"Starting year {year}\")\n",
    "            days = temps.loc[temps['year'] == year, 'yday'].max()\n",
    "            for day in range(1, days+1):\n",
    "                end = start + (24//sample_period)\n",
    "                day_temps = temps.iloc[start:end]\n",
    "                transfers = self.prediapause.run_one_step(day_temps)\n",
    "                transfers = self.diapause.run_one_step(day_temps, transfers)\n",
    "                transfers = self.postdiapause.run_one_step(day_temps, transfers)\n",
    "                transfers = self.first_instar.run_one_step(day_temps, transfers)\n",
    "                if day in range(100, 201):\n",
    "                    self.hatched.append(transfers)\n",
    "\n",
    "                transfers = self.second_instar.run_one_step(day_temps, transfers)\n",
    "                transfers = self.third_instar.run_one_step(day_temps, transfers)\n",
    "                transfers_dif = self.fourth_instar.run_one_step(day_temps, transfers)\n",
    "                transfers = self.male_late_instar.run_one_step(day_temps, transfers_dif/2)\n",
    "                to_adult = self.male_pupae.run_one_step(day_temps, transfers)\n",
    "                transfers = self.female_late_instar.run_one_step(day_temps, transfers_dif/2)\n",
    "                to_adult += self.female_pupae.run_one_step(day_temps, transfers)\n",
    "                transfers = self.adults.run_one_step(day_temps, to_adult)\n",
    "                self.prediapause.add_transfers(transfers/2)\n",
    "\n",
    "                start = end\n",
    "\n",
    "    def update_params(self, validation):\n",
    "        # Create a tensor with the relative abundances at each time point.\n",
    "        self.cum_hatched = [0]*len(self.hatched)\n",
    "        self.cum_hatched[0] = self.hatched[0]\n",
    "        for i in range(1, len(self.hatched)):\n",
    "            self.cum_hatched[i] = self.cum_hatched[i-1] + self.hatched[i]\n",
    "        self.cum_hatched = torch.stack(self.cum_hatched)\n",
    "\n",
    "        # Compute loss and gradients\n",
    "        loss = torch.mean((self.cum_hatched - validation)**2)\n",
    "        print(loss)\n",
    "        loss.backward()\n",
    "\n",
    "        # Use gradients to update trainable parameters\n",
    "        print(self.prediapause.sigma, self.prediapause.sigma.grad)\n",
    "        self.prediapause.sigma = self.prediapause.sigma - self.prediapause.sigma.grad * learning_rate\n",
    "        print(self.prediapause.sigma)\n",
    "        self.diapause.sigma_I = self.diapause.sigma_I - self.diapause.sigma_I.grad * learning_rate\n",
    "        self.diapause.sigma_D = self.diapause.sigma_D - self.diapause.sigma_D.grad * learning_rate\n",
    "        self.postdiapause.sigma = self.postdiapause.sigma - self.postdiapause.sigma.grad * learning_rate\n",
    "        self.first_instar.sigma = self.first_instar.sigma - self.first_instar.sigma.grad * learning_rate\n",
    "        self.second_instar.sigma = self.second_instar.sigma - self.second_instar.sigma.grad * learning_rate\n",
    "        self.third_instar.sigma = self.third_instar.sigma - self.third_instar.sigma.grad * learning_rate\n",
    "        self.fourth_instar.sigma = self.fourth_instar.sigma - self.fourth_instar.sigma.grad * learning_rate\n",
    "        self.male_late_instar.sigma = self.male_late_instar.sigma - self.male_late_instar.sigma.grad * learning_rate\n",
    "        self.female_late_instar.sigma = self.female_late_instar.sigma - self.female_late_instar.sigma.grad * learning_rate\n",
    "        self.male_pupae.sigma = self.male_pupae.sigma - self.male_pupae.sigma.grad * learning_rate\n",
    "        self.female_pupae.sigma = self.female_pupae.sigma - self.female_pupae.sigma.grad * learning_rate\n",
    "        self.adults.sigma = self.adults.sigma - self.adults.sigma.grad * learning_rate\n"
   ]
  },
  {
   "cell_type": "code",
   "execution_count": 44,
   "id": "11632932",
   "metadata": {},
   "outputs": [
    {
     "name": "stdout",
     "output_type": "stream",
     "text": [
      "           doy     hatch\n",
      "0   128.000000  0.000000\n",
      "1   128.994628  0.019048\n",
      "2   130.002686  0.119048\n",
      "3   131.006279  0.180952\n",
      "4   132.000384  0.411905\n",
      "5   132.994767  0.520238\n",
      "6   133.991244  0.646429\n",
      "7   135.000837  0.759524\n",
      "8   136.003593  0.814286\n",
      "9   136.981929  0.910714\n",
      "10  137.998919  0.961905\n",
      "11  138.981859  0.972619\n"
     ]
    }
   ],
   "source": [
    "validation = pd.read_csv('../data/mont_st_hilaire/hilaire_88.csv')\n",
    "print(validation)\n",
    "validation['doy'] = validation['doy'].round()\n",
    "validation = np.interp(np.arange(100, 201), \n",
    "                       validation['doy'],\n",
    "                       validation['hatch'])\n",
    "validation = torch.tensor(validation)"
   ]
  },
  {
   "cell_type": "code",
   "execution_count": 50,
   "id": "5a2b24fb",
   "metadata": {},
   "outputs": [
    {
     "name": "stdout",
     "output_type": "stream",
     "text": [
      "None\n",
      "Starting year 1980\n"
     ]
    },
    {
     "name": "stderr",
     "output_type": "stream",
     "text": [
      "c:\\Users\\406260\\AppData\\Local\\miniforge3\\envs\\SpongyMothIPM\\Lib\\site-packages\\torch\\autograd\\graph.py:824: UserWarning: Error detected in ErfBackward0. Traceback of forward call that caused the error:\n",
      "  File \"<frozen runpy>\", line 198, in _run_module_as_main\n",
      "  File \"<frozen runpy>\", line 88, in _run_code\n",
      "  File \"c:\\Users\\406260\\AppData\\Local\\miniforge3\\envs\\SpongyMothIPM\\Lib\\site-packages\\ipykernel_launcher.py\", line 18, in <module>\n",
      "    app.launch_new_instance()\n",
      "  File \"c:\\Users\\406260\\AppData\\Local\\miniforge3\\envs\\SpongyMothIPM\\Lib\\site-packages\\traitlets\\config\\application.py\", line 1075, in launch_instance\n",
      "    app.start()\n",
      "  File \"c:\\Users\\406260\\AppData\\Local\\miniforge3\\envs\\SpongyMothIPM\\Lib\\site-packages\\ipykernel\\kernelapp.py\", line 739, in start\n",
      "    self.io_loop.start()\n",
      "  File \"c:\\Users\\406260\\AppData\\Local\\miniforge3\\envs\\SpongyMothIPM\\Lib\\site-packages\\tornado\\platform\\asyncio.py\", line 211, in start\n",
      "    self.asyncio_loop.run_forever()\n",
      "  File \"c:\\Users\\406260\\AppData\\Local\\miniforge3\\envs\\SpongyMothIPM\\Lib\\asyncio\\base_events.py\", line 645, in run_forever\n",
      "    self._run_once()\n",
      "  File \"c:\\Users\\406260\\AppData\\Local\\miniforge3\\envs\\SpongyMothIPM\\Lib\\asyncio\\base_events.py\", line 1999, in _run_once\n",
      "    handle._run()\n",
      "  File \"c:\\Users\\406260\\AppData\\Local\\miniforge3\\envs\\SpongyMothIPM\\Lib\\asyncio\\events.py\", line 88, in _run\n",
      "    self._context.run(self._callback, *self._args)\n",
      "  File \"c:\\Users\\406260\\AppData\\Local\\miniforge3\\envs\\SpongyMothIPM\\Lib\\site-packages\\ipykernel\\kernelbase.py\", line 545, in dispatch_queue\n",
      "    await self.process_one()\n",
      "  File \"c:\\Users\\406260\\AppData\\Local\\miniforge3\\envs\\SpongyMothIPM\\Lib\\site-packages\\ipykernel\\kernelbase.py\", line 534, in process_one\n",
      "    await dispatch(*args)\n",
      "  File \"c:\\Users\\406260\\AppData\\Local\\miniforge3\\envs\\SpongyMothIPM\\Lib\\site-packages\\ipykernel\\kernelbase.py\", line 437, in dispatch_shell\n",
      "    await result\n",
      "  File \"c:\\Users\\406260\\AppData\\Local\\miniforge3\\envs\\SpongyMothIPM\\Lib\\site-packages\\ipykernel\\ipkernel.py\", line 362, in execute_request\n",
      "    await super().execute_request(stream, ident, parent)\n",
      "  File \"c:\\Users\\406260\\AppData\\Local\\miniforge3\\envs\\SpongyMothIPM\\Lib\\site-packages\\ipykernel\\kernelbase.py\", line 778, in execute_request\n",
      "    reply_content = await reply_content\n",
      "  File \"c:\\Users\\406260\\AppData\\Local\\miniforge3\\envs\\SpongyMothIPM\\Lib\\site-packages\\ipykernel\\ipkernel.py\", line 449, in do_execute\n",
      "    res = shell.run_cell(\n",
      "  File \"c:\\Users\\406260\\AppData\\Local\\miniforge3\\envs\\SpongyMothIPM\\Lib\\site-packages\\ipykernel\\zmqshell.py\", line 549, in run_cell\n",
      "    return super().run_cell(*args, **kwargs)\n",
      "  File \"c:\\Users\\406260\\AppData\\Local\\miniforge3\\envs\\SpongyMothIPM\\Lib\\site-packages\\IPython\\core\\interactiveshell.py\", line 3100, in run_cell\n",
      "    result = self._run_cell(\n",
      "  File \"c:\\Users\\406260\\AppData\\Local\\miniforge3\\envs\\SpongyMothIPM\\Lib\\site-packages\\IPython\\core\\interactiveshell.py\", line 3155, in _run_cell\n",
      "    result = runner(coro)\n",
      "  File \"c:\\Users\\406260\\AppData\\Local\\miniforge3\\envs\\SpongyMothIPM\\Lib\\site-packages\\IPython\\core\\async_helpers.py\", line 128, in _pseudo_sync_runner\n",
      "    coro.send(None)\n",
      "  File \"c:\\Users\\406260\\AppData\\Local\\miniforge3\\envs\\SpongyMothIPM\\Lib\\site-packages\\IPython\\core\\interactiveshell.py\", line 3367, in run_cell_async\n",
      "    has_raised = await self.run_ast_nodes(code_ast.body, cell_name,\n",
      "  File \"c:\\Users\\406260\\AppData\\Local\\miniforge3\\envs\\SpongyMothIPM\\Lib\\site-packages\\IPython\\core\\interactiveshell.py\", line 3612, in run_ast_nodes\n",
      "    if await self.run_code(code, result, async_=asy):\n",
      "  File \"c:\\Users\\406260\\AppData\\Local\\miniforge3\\envs\\SpongyMothIPM\\Lib\\site-packages\\IPython\\core\\interactiveshell.py\", line 3672, in run_code\n",
      "    exec(code_obj, self.user_global_ns, self.user_ns)\n",
      "  File \"C:\\Users\\406260\\AppData\\Local\\Temp\\ipykernel_26168\\3344761205.py\", line 6, in <module>\n",
      "    model.forward()\n",
      "  File \"C:\\Users\\406260\\AppData\\Local\\Temp\\ipykernel_26168\\189079240.py\", line 66, in forward\n",
      "    transfers = self.first_instar.run_one_step(day_temps, transfers)\n",
      "  File \"C:\\Users\\406260\\SpongyMothIPM\\SpongyMothIPM\\kernels.py\", line 73, in run_one_step\n",
      "    self.save_pop(year, yday)\n",
      "  File \"C:\\Users\\406260\\SpongyMothIPM\\SpongyMothIPM\\kernels.py\", line 52, in grow_pop\n",
      "  File \"C:\\Users\\406260\\SpongyMothIPM\\SpongyMothIPM\\kernels.py\", line 122, in build_kernel\n",
      "    raise Exception(\"Must provide non-empty temps array to build kernel.\")\n",
      "  File \"C:\\Users\\406260\\SpongyMothIPM\\SpongyMothIPM\\util.py\", line 28, in LnormCDF\n",
      "    + torch.erf(\n",
      " (Triggered internally at C:\\actions-runner\\_work\\pytorch\\pytorch\\pytorch\\torch\\csrc\\autograd\\python_anomaly_mode.cpp:127.)\n",
      "  return Variable._execution_engine.run_backward(  # Calls into the C++ engine to run the backward pass\n"
     ]
    },
    {
     "ename": "RuntimeError",
     "evalue": "Function 'ErfBackward0' returned nan values in its 0th output.",
     "output_type": "error",
     "traceback": [
      "\u001b[31m---------------------------------------------------------------------------\u001b[39m",
      "\u001b[31mRuntimeError\u001b[39m                              Traceback (most recent call last)",
      "\u001b[36mCell\u001b[39m\u001b[36m \u001b[39m\u001b[32mIn[50]\u001b[39m\u001b[32m, line 7\u001b[39m\n\u001b[32m      5\u001b[39m \u001b[38;5;28mprint\u001b[39m(model.first_instar.sigma.grad)\n\u001b[32m      6\u001b[39m model.forward()\n\u001b[32m----> \u001b[39m\u001b[32m7\u001b[39m \u001b[43mmodel\u001b[49m\u001b[43m.\u001b[49m\u001b[43mupdate_params\u001b[49m\u001b[43m(\u001b[49m\u001b[43mvalidation\u001b[49m\u001b[43m)\u001b[49m\n",
      "\u001b[36mCell\u001b[39m\u001b[36m \u001b[39m\u001b[32mIn[46]\u001b[39m\u001b[32m, line 92\u001b[39m, in \u001b[36mSimpleModel.update_params\u001b[39m\u001b[34m(self, validation)\u001b[39m\n\u001b[32m     90\u001b[39m \u001b[38;5;66;03m# Compute loss and gradients\u001b[39;00m\n\u001b[32m     91\u001b[39m loss = torch.mean((\u001b[38;5;28mself\u001b[39m.cum_hatched - validation)**\u001b[32m2\u001b[39m)\n\u001b[32m---> \u001b[39m\u001b[32m92\u001b[39m \u001b[43mloss\u001b[49m\u001b[43m.\u001b[49m\u001b[43mbackward\u001b[49m\u001b[43m(\u001b[49m\u001b[43m)\u001b[49m\n\u001b[32m     94\u001b[39m \u001b[38;5;66;03m# Use gradients to update trainable parameters\u001b[39;00m\n\u001b[32m     95\u001b[39m \u001b[38;5;28mprint\u001b[39m(\u001b[38;5;28mself\u001b[39m.prediapause.sigma, \u001b[38;5;28mself\u001b[39m.prediapause.sigma.grad)\n",
      "\u001b[36mFile \u001b[39m\u001b[32mc:\\Users\\406260\\AppData\\Local\\miniforge3\\envs\\SpongyMothIPM\\Lib\\site-packages\\torch\\_tensor.py:648\u001b[39m, in \u001b[36mTensor.backward\u001b[39m\u001b[34m(self, gradient, retain_graph, create_graph, inputs)\u001b[39m\n\u001b[32m    638\u001b[39m \u001b[38;5;28;01mif\u001b[39;00m has_torch_function_unary(\u001b[38;5;28mself\u001b[39m):\n\u001b[32m    639\u001b[39m     \u001b[38;5;28;01mreturn\u001b[39;00m handle_torch_function(\n\u001b[32m    640\u001b[39m         Tensor.backward,\n\u001b[32m    641\u001b[39m         (\u001b[38;5;28mself\u001b[39m,),\n\u001b[32m   (...)\u001b[39m\u001b[32m    646\u001b[39m         inputs=inputs,\n\u001b[32m    647\u001b[39m     )\n\u001b[32m--> \u001b[39m\u001b[32m648\u001b[39m \u001b[43mtorch\u001b[49m\u001b[43m.\u001b[49m\u001b[43mautograd\u001b[49m\u001b[43m.\u001b[49m\u001b[43mbackward\u001b[49m\u001b[43m(\u001b[49m\n\u001b[32m    649\u001b[39m \u001b[43m    \u001b[49m\u001b[38;5;28;43mself\u001b[39;49m\u001b[43m,\u001b[49m\u001b[43m \u001b[49m\u001b[43mgradient\u001b[49m\u001b[43m,\u001b[49m\u001b[43m \u001b[49m\u001b[43mretain_graph\u001b[49m\u001b[43m,\u001b[49m\u001b[43m \u001b[49m\u001b[43mcreate_graph\u001b[49m\u001b[43m,\u001b[49m\u001b[43m \u001b[49m\u001b[43minputs\u001b[49m\u001b[43m=\u001b[49m\u001b[43minputs\u001b[49m\n\u001b[32m    650\u001b[39m \u001b[43m\u001b[49m\u001b[43m)\u001b[49m\n",
      "\u001b[36mFile \u001b[39m\u001b[32mc:\\Users\\406260\\AppData\\Local\\miniforge3\\envs\\SpongyMothIPM\\Lib\\site-packages\\torch\\autograd\\__init__.py:353\u001b[39m, in \u001b[36mbackward\u001b[39m\u001b[34m(tensors, grad_tensors, retain_graph, create_graph, grad_variables, inputs)\u001b[39m\n\u001b[32m    348\u001b[39m     retain_graph = create_graph\n\u001b[32m    350\u001b[39m \u001b[38;5;66;03m# The reason we repeat the same comment below is that\u001b[39;00m\n\u001b[32m    351\u001b[39m \u001b[38;5;66;03m# some Python versions print out the first line of a multi-line function\u001b[39;00m\n\u001b[32m    352\u001b[39m \u001b[38;5;66;03m# calls in the traceback and some print out the last line\u001b[39;00m\n\u001b[32m--> \u001b[39m\u001b[32m353\u001b[39m \u001b[43m_engine_run_backward\u001b[49m\u001b[43m(\u001b[49m\n\u001b[32m    354\u001b[39m \u001b[43m    \u001b[49m\u001b[43mtensors\u001b[49m\u001b[43m,\u001b[49m\n\u001b[32m    355\u001b[39m \u001b[43m    \u001b[49m\u001b[43mgrad_tensors_\u001b[49m\u001b[43m,\u001b[49m\n\u001b[32m    356\u001b[39m \u001b[43m    \u001b[49m\u001b[43mretain_graph\u001b[49m\u001b[43m,\u001b[49m\n\u001b[32m    357\u001b[39m \u001b[43m    \u001b[49m\u001b[43mcreate_graph\u001b[49m\u001b[43m,\u001b[49m\n\u001b[32m    358\u001b[39m \u001b[43m    \u001b[49m\u001b[43minputs\u001b[49m\u001b[43m,\u001b[49m\n\u001b[32m    359\u001b[39m \u001b[43m    \u001b[49m\u001b[43mallow_unreachable\u001b[49m\u001b[43m=\u001b[49m\u001b[38;5;28;43;01mTrue\u001b[39;49;00m\u001b[43m,\u001b[49m\n\u001b[32m    360\u001b[39m \u001b[43m    \u001b[49m\u001b[43maccumulate_grad\u001b[49m\u001b[43m=\u001b[49m\u001b[38;5;28;43;01mTrue\u001b[39;49;00m\u001b[43m,\u001b[49m\n\u001b[32m    361\u001b[39m \u001b[43m\u001b[49m\u001b[43m)\u001b[49m\n",
      "\u001b[36mFile \u001b[39m\u001b[32mc:\\Users\\406260\\AppData\\Local\\miniforge3\\envs\\SpongyMothIPM\\Lib\\site-packages\\torch\\autograd\\graph.py:824\u001b[39m, in \u001b[36m_engine_run_backward\u001b[39m\u001b[34m(t_outputs, *args, **kwargs)\u001b[39m\n\u001b[32m    822\u001b[39m     unregister_hooks = _register_logging_hooks_on_whole_graph(t_outputs)\n\u001b[32m    823\u001b[39m \u001b[38;5;28;01mtry\u001b[39;00m:\n\u001b[32m--> \u001b[39m\u001b[32m824\u001b[39m     \u001b[38;5;28;01mreturn\u001b[39;00m \u001b[43mVariable\u001b[49m\u001b[43m.\u001b[49m\u001b[43m_execution_engine\u001b[49m\u001b[43m.\u001b[49m\u001b[43mrun_backward\u001b[49m\u001b[43m(\u001b[49m\u001b[43m  \u001b[49m\u001b[38;5;66;43;03m# Calls into the C++ engine to run the backward pass\u001b[39;49;00m\n\u001b[32m    825\u001b[39m \u001b[43m        \u001b[49m\u001b[43mt_outputs\u001b[49m\u001b[43m,\u001b[49m\u001b[43m \u001b[49m\u001b[43m*\u001b[49m\u001b[43margs\u001b[49m\u001b[43m,\u001b[49m\u001b[43m \u001b[49m\u001b[43m*\u001b[49m\u001b[43m*\u001b[49m\u001b[43mkwargs\u001b[49m\n\u001b[32m    826\u001b[39m \u001b[43m    \u001b[49m\u001b[43m)\u001b[49m  \u001b[38;5;66;03m# Calls into the C++ engine to run the backward pass\u001b[39;00m\n\u001b[32m    827\u001b[39m \u001b[38;5;28;01mfinally\u001b[39;00m:\n\u001b[32m    828\u001b[39m     \u001b[38;5;28;01mif\u001b[39;00m attach_logging_hooks:\n",
      "\u001b[31mRuntimeError\u001b[39m: Function 'ErfBackward0' returned nan values in its 0th output."
     ]
    }
   ],
   "source": [
    "torch.autograd.set_detect_anomaly(True)\n",
    "\n",
    "model = SimpleModel()\n",
    "model.init_pop()\n",
    "print(model.first_instar.sigma.grad)\n",
    "model.forward()\n",
    "model.update_params(validation)"
   ]
  },
  {
   "cell_type": "code",
   "execution_count": 48,
   "id": "300eef97",
   "metadata": {},
   "outputs": [
    {
     "name": "stderr",
     "output_type": "stream",
     "text": [
      "C:\\Users\\406260\\AppData\\Local\\Temp\\ipykernel_26168\\316373034.py:1: UserWarning: The .grad attribute of a Tensor that is not a leaf Tensor is being accessed. Its .grad attribute won't be populated during autograd.backward(). If you indeed want the .grad field to be populated for a non-leaf Tensor, use .retain_grad() on the non-leaf Tensor. If you access the non-leaf Tensor by mistake, make sure you access the leaf Tensor instead. See github.com/pytorch/pytorch/pull/30531 for more informations. (Triggered internally at C:\\actions-runner\\_work\\pytorch\\pytorch\\pytorch\\build\\aten\\src\\ATen/core/TensorBody.h:494.)\n",
      "  model.first_instar.sigma.grad\n"
     ]
    }
   ],
   "source": [
    "model.first_instar.sigma.grad"
   ]
  },
  {
   "cell_type": "code",
   "execution_count": null,
   "id": "ecf8efeb",
   "metadata": {},
   "outputs": [],
   "source": []
  }
 ],
 "metadata": {
  "kernelspec": {
   "display_name": "SpongyMothIPM",
   "language": "python",
   "name": "python3"
  },
  "language_info": {
   "codemirror_mode": {
    "name": "ipython",
    "version": 3
   },
   "file_extension": ".py",
   "mimetype": "text/x-python",
   "name": "python",
   "nbconvert_exporter": "python",
   "pygments_lexer": "ipython3",
   "version": "3.12.11"
  }
 },
 "nbformat": 4,
 "nbformat_minor": 5
}
