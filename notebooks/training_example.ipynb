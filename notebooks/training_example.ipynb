{
 "cells": [
  {
   "cell_type": "markdown",
   "id": "052001c1",
   "metadata": {},
   "source": [
    "# Testing Gradient Updates for Demographic Stochasticity\n",
    "When running the model with arbitrarily chosen stochasticities, we find that egg hatch times are happening too soon. Here, we aim to build up a method for updating stochasticity parameters using gradient descent in a way that can work with current memory constraints."
   ]
  },
  {
   "cell_type": "code",
   "execution_count": 60,
   "id": "46cb977f",
   "metadata": {},
   "outputs": [
    {
     "name": "stdout",
     "output_type": "stream",
     "text": [
      "The autoreload extension is already loaded. To reload it, use:\n",
      "  %reload_ext autoreload\n"
     ]
    }
   ],
   "source": [
    "%load_ext autoreload\n",
    "%autoreload 2\n",
    "\n",
    "import math\n",
    "\n",
    "import matplotlib.pyplot as plt\n",
    "import numpy as np\n",
    "import pandas as pd\n",
    "import torch\n",
    "\n",
    "import SpongyMothIPM.meteorology as met\n",
    "from SpongyMothIPM.config import Config\n",
    "import SpongyMothIPM.util as util\n",
    "import SpongyMothIPM.kernels as kernels\n",
    "import SpongyMothIPM.visualization as viz"
   ]
  },
  {
   "cell_type": "markdown",
   "id": "5dbb890e",
   "metadata": {},
   "source": [
    "## Load Weather Data"
   ]
  },
  {
   "cell_type": "code",
   "execution_count": 74,
   "id": "edfd3b70",
   "metadata": {},
   "outputs": [],
   "source": [
    "df = met.load_daymet_data('../data/mont_st_hilaire/mont_st_hilaire_1980_1991.csv')\n",
    "low_time = 1\n",
    "high_time = 13\n",
    "sample_period = 4\n",
    "sample_start_time = 1\n",
    "temps = met.daymet_to_diurnal(df, \n",
    "                            low_time, \n",
    "                            high_time, \n",
    "                            sample_period, \n",
    "                            sample_start_time, 365)\n",
    "\n",
    "\n",
    "config = Config(dtype=torch.float,\n",
    "                delta_t=sample_period/24)\n",
    "\n",
    "days = len(temps)//(24//sample_period)\n",
    "learning_rate = 0.00000001"
   ]
  },
  {
   "cell_type": "markdown",
   "id": "16b129aa",
   "metadata": {},
   "source": [
    "## Model Setup"
   ]
  },
  {
   "cell_type": "code",
   "execution_count": null,
   "id": "7b98959c",
   "metadata": {},
   "outputs": [],
   "source": [
    "class SimpleModel():\n",
    "    def __init__(self):\n",
    "        # Build life stages\n",
    "        self.prediapause = kernels.Prediapause(\n",
    "            config, save=False, save_rate=1, mortality=0)\n",
    "        self.diapause = kernels.Diapause(\n",
    "            config, n_bins_I=45, n_bins_D=45, save=False, save_rate=1, mortality=0)\n",
    "        self.postdiapause = kernels.Postdiapause(\n",
    "            config, save=False, save_rate=1, mortality=0)\n",
    "        self.first_instar = kernels.FirstInstar(\n",
    "            config, save=False, save_rate=1, mortality=0, \n",
    "            file_path='memory')\n",
    "        self.second_instar = kernels.SecondInstar(\n",
    "            config, save=False, save_rate=1, mortality=0)\n",
    "        self.third_instar = kernels.ThirdInstar(\n",
    "            config, save=False, save_rate=1, mortality=0)\n",
    "        self.fourth_instar = kernels.FourthInstar(\n",
    "            config, save=False, save_rate=1, mortality=0)\n",
    "        self.male_late_instar = kernels.MaleFifthInstar(\n",
    "            config, save=False, save_rate=1, mortality=0)\n",
    "        self.female_late_instar = kernels.FemaleFifthSixthInstar(\n",
    "            config, save=False, save_rate=1, mortality=0)\n",
    "        self.male_pupae = kernels.MalePupae(\n",
    "            config, save=False, save_rate=1, mortality=0)\n",
    "        self.female_pupae = kernels.FemalePupae(\n",
    "            config, save=False, save_rate=1, mortality=0)\n",
    "        self.adults = kernels.Adult(\n",
    "            config, save=False, save_rate=1, mortality=0)\n",
    "        \n",
    "    def init_pop(self):\n",
    "        # Initiate populations\n",
    "        mu = 0.2\n",
    "        sigma = 1.1\n",
    "        total = 1\n",
    "        empty = 0\n",
    "        self.prediapause.init_pop(empty, mu, sigma)\n",
    "        self.diapause.init_pop(total, mu, sigma)\n",
    "        self.postdiapause.init_pop(empty, mu, sigma)\n",
    "        self.first_instar.init_pop(empty, mu, sigma)\n",
    "        self.second_instar.init_pop(empty, mu, sigma)\n",
    "        self.third_instar.init_pop(empty, mu, sigma)\n",
    "        self.fourth_instar.init_pop(empty, mu, sigma)\n",
    "        self.male_late_instar.init_pop(empty, mu, sigma)\n",
    "        self.female_late_instar.init_pop(empty, mu, sigma)\n",
    "        self.male_pupae.init_pop(empty, mu, sigma)\n",
    "        self.female_pupae.init_pop(empty, mu, sigma)\n",
    "        self.adults.init_pop(empty, mu, sigma)\n",
    "\n",
    "        # For tracking emerging eggs\n",
    "        self.hatched = []\n",
    "        \n",
    "    def forward(self):\n",
    "        # Run Model\n",
    "        start_year = temps['year'].min()\n",
    "        end_year = temps['year'].max()\n",
    "        start = 0\n",
    "        for year in range(start_year, end_year+1):\n",
    "            print(f\"Starting year {year}\")\n",
    "            days = temps.loc[temps['year'] == year, 'yday'].max()\n",
    "            for day in range(1, days+1):\n",
    "                end = start + (24//sample_period)\n",
    "                day_temps = temps.iloc[start:end]\n",
    "                transfers = self.prediapause.run_one_step(day_temps)\n",
    "                transfers = self.diapause.run_one_step(day_temps, transfers)\n",
    "                transfers = self.postdiapause.run_one_step(day_temps, transfers)\n",
    "                transfers = self.first_instar.run_one_step(day_temps, transfers)\n",
    "                if day in range(100, 201):\n",
    "                    self.hatched.append(transfers)\n",
    "\n",
    "                transfers = self.second_instar.run_one_step(day_temps, transfers)\n",
    "                transfers = self.third_instar.run_one_step(day_temps, transfers)\n",
    "                transfers_dif = self.fourth_instar.run_one_step(day_temps, transfers)\n",
    "                transfers = self.male_late_instar.run_one_step(day_temps, transfers_dif/2)\n",
    "                to_adult = self.male_pupae.run_one_step(day_temps, transfers)\n",
    "                transfers = self.female_late_instar.run_one_step(day_temps, transfers_dif/2)\n",
    "                to_adult += self.female_pupae.run_one_step(day_temps, transfers)\n",
    "                transfers = self.adults.run_one_step(day_temps, to_adult)\n",
    "                self.prediapause.add_transfers(transfers/2)\n",
    "\n",
    "                start = end\n",
    "\n",
    "    def print_params(self):\n",
    "        print('Prediapause: ', self.prediapause.sigma, self.prediapause.sigma.grad)\n",
    "        print('Diapause I: ', self.diapause.sigma_I, self.diapause.sigma_I.grad)\n",
    "        print('Diapause D: ', self.diapause.sigma_D, self.diapause.sigma_D.grad)\n",
    "        print('Postdiapause: ', self.postdiapause.sigma, self.postdiapause.sigma.grad)\n",
    "        print('First Instar: ', self.first_instar.sigma, self.first_instar.sigma.grad)\n",
    "        print('Second Instar: ', self.second_instar.sigma, self.second_instar.sigma.grad)\n",
    "        print('Third Instar: ', self.third_instar.sigma, self.third_instar.sigma.grad)\n",
    "        print('Fourth Instar: ', self.fourth_instar.sigma, self.fourth_instar.sigma.grad)\n",
    "        print('Male Late Instar: ', self.male_late_instar.sigma, self.male_late_instar.sigma.grad)\n",
    "        print('Female Late Instar: ', self.female_late_instar.sigma, self.female_late_instar.sigma.grad)\n",
    "        print('Male Pupae: ', self.male_pupae.sigma, self.male_pupae.sigma.grad)\n",
    "        print('Female Pupae: ', self.female_pupae.sigma, self.female_pupae.sigma.grad)\n",
    "        print('Adult: ', self.adults.sigma, self.adults.sigma.grad)\n",
    "\n",
    "    def update_params(self, validation):\n",
    "        # Create a tensor with the relative abundances at each time point.\n",
    "        self.cum_hatched = [0]*len(self.hatched)\n",
    "        self.cum_hatched[0] = self.hatched[0]\n",
    "        for i in range(1, len(self.hatched)):\n",
    "            self.cum_hatched[i] = self.cum_hatched[i-1] + self.hatched[i]\n",
    "        self.cum_hatched = torch.stack(self.cum_hatched)\n",
    "\n",
    "        # Compute loss and gradients\n",
    "        loss = torch.mean((self.cum_hatched - validation)**2)\n",
    "        print(loss)\n",
    "        loss.backward()\n",
    "\n",
    "        # Use gradients to update trainable parameters\n",
    "        with torch.no_grad():\n",
    "            self.print_params()\n",
    "            # Prediapause\n",
    "            self.prediapause.sigma -= self.prediapause.sigma.grad * learning_rate\n",
    "            self.prediapause.sigma.grad.data.zero_()\n",
    "            # Diapause\n",
    "            self.diapause.sigma_I -= self.diapause.sigma_I.grad * learning_rate\n",
    "            self.diapause.sigma_I.grad.data.zero_()\n",
    "            self.diapause.sigma_D -= self.diapause.sigma_D.grad * learning_rate\n",
    "            self.diapause.sigma_D.grad.data.zero_()\n",
    "            # Postdiapause\n",
    "            self.postdiapause.sigma -= self.postdiapause.sigma.grad * learning_rate\n",
    "            self.postdiapause.sigma.grad.data.zero_()\n",
    "            # First Instar\n",
    "            self.first_instar.sigma -= self.first_instar.sigma.grad * learning_rate\n",
    "            self.first_instar.sigma.grad.data.zero_()\n",
    "            # Second Instar\n",
    "            self.second_instar.sigma -= self.second_instar.sigma.grad * learning_rate\n",
    "            self.second_instar.sigma.grad.data.zero_()\n",
    "            # Thrid Instar\n",
    "            self.third_instar.sigma -= self.third_instar.sigma.grad * learning_rate\n",
    "            self.third_instar.sigma.grad.data.zero_()\n",
    "            # Fourth Instar\n",
    "            self.fourth_instar.sigma -= self.fourth_instar.sigma.grad * learning_rate\n",
    "            self.fourth_instar.sigma.grad.data.zero_()\n",
    "            # Male Fifth Instar\n",
    "            self.male_late_instar.sigma -= self.male_late_instar.sigma.grad * learning_rate\n",
    "            self.male_late_instar.sigma.grad.data.zero_()\n",
    "            # Female Fifth/Sixth Instar\n",
    "            self.female_late_instar.sigma -= self.female_late_instar.sigma.grad * learning_rate\n",
    "            self.female_late_instar.sigma.grad.data.zero_()\n",
    "            # Male Pupae\n",
    "            self.male_pupae.sigma -= self.male_pupae.sigma.grad * learning_rate\n",
    "            self.male_pupae.sigma.grad.data.zero_()\n",
    "            # Female Pupae\n",
    "            self.female_pupae.sigma -= self.female_pupae.sigma.grad * learning_rate\n",
    "            self.female_pupae.sigma.grad.data.zero_()\n",
    "            # Adults\n",
    "            self.adults.sigma -= self.adults.sigma.grad * learning_rate\n",
    "            self.adults.sigma.grad.data.zero_()\n"
   ]
  },
  {
   "cell_type": "code",
   "execution_count": 55,
   "id": "11632932",
   "metadata": {},
   "outputs": [
    {
     "name": "stdout",
     "output_type": "stream",
     "text": [
      "           doy     hatch\n",
      "0   128.000000  0.000000\n",
      "1   128.994628  0.019048\n",
      "2   130.002686  0.119048\n",
      "3   131.006279  0.180952\n",
      "4   132.000384  0.411905\n",
      "5   132.994767  0.520238\n",
      "6   133.991244  0.646429\n",
      "7   135.000837  0.759524\n",
      "8   136.003593  0.814286\n",
      "9   136.981929  0.910714\n",
      "10  137.998919  0.961905\n",
      "11  138.981859  0.972619\n"
     ]
    }
   ],
   "source": [
    "validation = pd.read_csv('../data/mont_st_hilaire/hilaire_88.csv')\n",
    "print(validation)\n",
    "validation['doy'] = validation['doy'].round()\n",
    "validation = np.interp(np.arange(100, 201), \n",
    "                       validation['doy'],\n",
    "                       validation['hatch'])\n",
    "validation = torch.tensor(validation)"
   ]
  },
  {
   "cell_type": "code",
   "execution_count": 92,
   "id": "5a2b24fb",
   "metadata": {},
   "outputs": [
    {
     "name": "stdout",
     "output_type": "stream",
     "text": [
      "Starting year 1980\n",
      "tensor(0.0733, dtype=torch.float64, grad_fn=<MeanBackward0>)\n",
      "tensor(1.1000, requires_grad=True) tensor(-15323.6523)\n",
      "tensor(1.5000, requires_grad=True) tensor(-462749.4375)\n",
      "tensor(1.5000, requires_grad=True) tensor(-684220.4375)\n",
      "tensor(1.1000, requires_grad=True) tensor(-4668.1426)\n",
      "tensor(1.1000, requires_grad=True) tensor(-40865.6875)\n",
      "tensor(1.1000, requires_grad=True) tensor(-49437.4805)\n",
      "tensor(1.1000, requires_grad=True) tensor(-27977.7734)\n",
      "tensor(1.1000, requires_grad=True) tensor(-40237.2031)\n",
      "tensor(1.1000, requires_grad=True) tensor(-14380.5537)\n",
      "tensor(1.1000, requires_grad=True) tensor(2289.0955)\n",
      "tensor(1.1000, requires_grad=True) tensor(-15012.1377)\n",
      "tensor(1.1000, requires_grad=True) tensor(-40323.7070)\n",
      "tensor(1.1000, requires_grad=True) tensor(-35134.4102)\n"
     ]
    }
   ],
   "source": [
    "torch.autograd.set_detect_anomaly(False)\n",
    "\n",
    "model = SimpleModel()\n",
    "model.init_pop()\n",
    "model.forward()\n",
    "model.update_params(validation)"
   ]
  },
  {
   "cell_type": "code",
   "execution_count": 93,
   "id": "5570989d",
   "metadata": {},
   "outputs": [
    {
     "name": "stdout",
     "output_type": "stream",
     "text": [
      "Starting year 1980\n",
      "tensor(0.0730, dtype=torch.float64, grad_fn=<MeanBackward0>)\n",
      "tensor(1.1002, requires_grad=True) tensor(-15364.0391)\n",
      "tensor(1.5046, requires_grad=True) tensor(-464950.8750)\n",
      "tensor(1.5068, requires_grad=True) tensor(-688919.1250)\n",
      "tensor(1.1000, requires_grad=True) tensor(-4667.4243)\n",
      "tensor(1.1004, requires_grad=True) tensor(-40940.1680)\n",
      "tensor(1.1005, requires_grad=True) tensor(-49656.8867)\n",
      "tensor(1.1003, requires_grad=True) tensor(-28050.3809)\n",
      "tensor(1.1004, requires_grad=True) tensor(-40372.0742)\n",
      "tensor(1.1001, requires_grad=True) tensor(-14427.1455)\n",
      "tensor(1.1000, requires_grad=True) tensor(2295.8904)\n",
      "tensor(1.1002, requires_grad=True) tensor(-15023.6279)\n",
      "tensor(1.1004, requires_grad=True) tensor(-40374.4648)\n",
      "tensor(1.1004, requires_grad=True) tensor(-35232.4297)\n"
     ]
    }
   ],
   "source": [
    "model.init_pop()\n",
    "model.forward()\n",
    "model.update_params(validation)"
   ]
  },
  {
   "cell_type": "code",
   "execution_count": 94,
   "id": "66884eb9",
   "metadata": {},
   "outputs": [
    {
     "name": "stdout",
     "output_type": "stream",
     "text": [
      "Starting year 1980\n",
      "tensor(0.0726, dtype=torch.float64, grad_fn=<MeanBackward0>)\n",
      "tensor(1.1003, requires_grad=True) tensor(-15404.5137)\n",
      "tensor(1.5093, requires_grad=True) tensor(-467133.7500)\n",
      "tensor(1.5137, requires_grad=True) tensor(-693539.7500)\n",
      "tensor(1.1001, requires_grad=True) tensor(-4666.7021)\n",
      "tensor(1.1008, requires_grad=True) tensor(-41015.0391)\n",
      "tensor(1.1010, requires_grad=True) tensor(-49875.4141)\n",
      "tensor(1.1006, requires_grad=True) tensor(-28123.0059)\n",
      "tensor(1.1008, requires_grad=True) tensor(-40506.8789)\n",
      "tensor(1.1003, requires_grad=True) tensor(-14473.7920)\n",
      "tensor(1.1000, requires_grad=True) tensor(2302.7205)\n",
      "tensor(1.1003, requires_grad=True) tensor(-15035.2354)\n",
      "tensor(1.1008, requires_grad=True) tensor(-40425.9922)\n",
      "tensor(1.1007, requires_grad=True) tensor(-35330.6797)\n"
     ]
    }
   ],
   "source": [
    "model.init_pop()\n",
    "model.forward()\n",
    "model.update_params(validation)"
   ]
  },
  {
   "cell_type": "code",
   "execution_count": 83,
   "id": "ecf8efeb",
   "metadata": {},
   "outputs": [
    {
     "name": "stdout",
     "output_type": "stream",
     "text": [
      "None\n"
     ]
    },
    {
     "name": "stderr",
     "output_type": "stream",
     "text": [
      "C:\\Users\\406260\\AppData\\Local\\Temp\\ipykernel_26168\\4245400096.py:1: UserWarning: The .grad attribute of a Tensor that is not a leaf Tensor is being accessed. Its .grad attribute won't be populated during autograd.backward(). If you indeed want the .grad field to be populated for a non-leaf Tensor, use .retain_grad() on the non-leaf Tensor. If you access the non-leaf Tensor by mistake, make sure you access the leaf Tensor instead. See github.com/pytorch/pytorch/pull/30531 for more informations. (Triggered internally at C:\\actions-runner\\_work\\pytorch\\pytorch\\pytorch\\build\\aten\\src\\ATen/core/TensorBody.h:494.)\n",
      "  print(model.prediapause.sigma.grad)\n"
     ]
    }
   ],
   "source": [
    "print(model.prediapause.sigma.grad)"
   ]
  },
  {
   "cell_type": "code",
   "execution_count": null,
   "id": "610959bc",
   "metadata": {},
   "outputs": [],
   "source": []
  }
 ],
 "metadata": {
  "kernelspec": {
   "display_name": "SpongyMothIPM",
   "language": "python",
   "name": "python3"
  },
  "language_info": {
   "codemirror_mode": {
    "name": "ipython",
    "version": 3
   },
   "file_extension": ".py",
   "mimetype": "text/x-python",
   "name": "python",
   "nbconvert_exporter": "python",
   "pygments_lexer": "ipython3",
   "version": "3.12.11"
  }
 },
 "nbformat": 4,
 "nbformat_minor": 5
}
